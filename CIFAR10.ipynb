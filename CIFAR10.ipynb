{
  "nbformat": 4,
  "nbformat_minor": 0,
  "metadata": {
    "colab": {
      "name": "CIFAR10.ipynb",
      "provenance": [],
      "collapsed_sections": [],
      "authorship_tag": "ABX9TyOeAfcLoYkXn/hv7tT2VEY8",
      "include_colab_link": true
    },
    "kernelspec": {
      "name": "python3",
      "display_name": "Python 3"
    },
    "language_info": {
      "name": "python"
    },
    "accelerator": "GPU"
  },
  "cells": [
    {
      "cell_type": "markdown",
      "metadata": {
        "id": "view-in-github",
        "colab_type": "text"
      },
      "source": [
        "<a href=\"https://colab.research.google.com/github/keshavrj/Projects/blob/master/CIFAR10.ipynb\" target=\"_parent\"><img src=\"https://colab.research.google.com/assets/colab-badge.svg\" alt=\"Open In Colab\"/></a>"
      ]
    },
    {
      "cell_type": "code",
      "metadata": {
        "id": "yoD17Ix3vGPh"
      },
      "source": [
        "import tensorflow as tf\n",
        "import numpy as np\n",
        "import matplotlib.pyplot as plt\n"
      ],
      "execution_count": 1,
      "outputs": []
    },
    {
      "cell_type": "code",
      "metadata": {
        "id": "sBO4JZhFveer"
      },
      "source": [
        "dataset= tf.keras.datasets.cifar10.load_data()"
      ],
      "execution_count": 2,
      "outputs": []
    },
    {
      "cell_type": "code",
      "metadata": {
        "id": "2UDV3qEMv70Y"
      },
      "source": [
        "(x_train,y_train),(x_test,y_test)= dataset"
      ],
      "execution_count": 3,
      "outputs": []
    },
    {
      "cell_type": "code",
      "metadata": {
        "colab": {
          "base_uri": "https://localhost:8080/"
        },
        "id": "qeJle2C2wEeH",
        "outputId": "5a8f2402-b72c-4bee-9de0-a84d671f7022"
      },
      "source": [
        "print(x_train.shape) #4D shape, good for keras API\n",
        "print(x_test.shape)\n",
        "print(y_train.shape)\n",
        "print(y_test.shape)"
      ],
      "execution_count": 4,
      "outputs": [
        {
          "output_type": "stream",
          "text": [
            "(50000, 32, 32, 3)\n",
            "(10000, 32, 32, 3)\n",
            "(50000, 1)\n",
            "(10000, 1)\n"
          ],
          "name": "stdout"
        }
      ]
    },
    {
      "cell_type": "code",
      "metadata": {
        "colab": {
          "base_uri": "https://localhost:8080/"
        },
        "id": "jwFwzwIV1m4N",
        "outputId": "6f31f656-61b1-40f4-acbb-829329493700"
      },
      "source": [
        "np.isnan(x_train).any() #checking for missing data\n"
      ],
      "execution_count": 5,
      "outputs": [
        {
          "output_type": "execute_result",
          "data": {
            "text/plain": [
              "False"
            ]
          },
          "metadata": {
            "tags": []
          },
          "execution_count": 5
        }
      ]
    },
    {
      "cell_type": "code",
      "metadata": {
        "id": "FQJiEnOV2yvl"
      },
      "source": [
        "# Normalization\n",
        "x_train=x_train/255\n",
        "x_test=x_test/255\n",
        "\n",
        "#One hot encoding\n",
        "from tensorflow.keras.utils import to_categorical\n",
        "y_train_cat=to_categorical(y_train,10)\n",
        "y_test_cat=to_categorical(y_test,10)\n"
      ],
      "execution_count": 6,
      "outputs": []
    },
    {
      "cell_type": "code",
      "metadata": {
        "colab": {
          "base_uri": "https://localhost:8080/"
        },
        "id": "C59bH5uUcf3L",
        "outputId": "e5aa541f-4db1-414b-9216-99cd3b886da6"
      },
      "source": [
        "print(x_train[100].shape)"
      ],
      "execution_count": 7,
      "outputs": [
        {
          "output_type": "stream",
          "text": [
            "(32, 32, 3)\n"
          ],
          "name": "stdout"
        }
      ]
    },
    {
      "cell_type": "code",
      "metadata": {
        "id": "9ZRLIbTv6RS4"
      },
      "source": [
        "from tensorflow.keras.models import Sequential\n",
        "from tensorflow.keras.layers import Conv2D,MaxPool2D,Dense,Flatten,Dropout,Input, AveragePooling2D, Activation,Conv2D, MaxPooling2D, BatchNormalization,Concatenate\n",
        "from tensorflow.keras.callbacks import EarlyStopping, TensorBoard\n",
        "from tensorflow.keras import regularizers, optimizers"
      ],
      "execution_count": 8,
      "outputs": []
    },
    {
      "cell_type": "code",
      "metadata": {
        "id": "V6-L7EYxRtp9"
      },
      "source": [
        "model = Sequential()\n",
        "model.add(Conv2D(32, (3, 3), activation='relu', kernel_initializer='he_uniform', padding='same', input_shape=(32,32,3)))\n",
        "model.add(BatchNormalization())\n",
        "model.add(Conv2D(32, (3, 3), activation='relu', kernel_initializer='he_uniform', padding='same'))\n",
        "model.add(BatchNormalization())\n",
        "model.add(MaxPool2D((2, 2)))\n",
        "model.add(Dropout(0.2))\n",
        "model.add(Conv2D(64, (3, 3), activation='relu', kernel_initializer='he_uniform', padding='same'))\n",
        "model.add(BatchNormalization())\n",
        "model.add(Conv2D(64, (3, 3), activation='relu', kernel_initializer='he_uniform', padding='same'))\n",
        "model.add(BatchNormalization())\n",
        "model.add(MaxPool2D((2, 2)))\n",
        "model.add(Dropout(0.3))\n",
        "model.add(Conv2D(128, (3, 3), activation='relu', kernel_initializer='he_uniform', padding='same'))\n",
        "model.add(BatchNormalization())\n",
        "model.add(Conv2D(128, (3, 3), activation='relu', kernel_initializer='he_uniform', padding='same'))\n",
        "model.add(BatchNormalization())\n",
        "model.add(MaxPool2D((2, 2)))\n",
        "model.add(Dropout(0.4))\n",
        "model.add(Flatten())\n",
        "model.add(Dense(128, activation='relu', kernel_initializer='he_uniform'))\n",
        "model.add(BatchNormalization())\n",
        "model.add(Dropout(0.5))\n",
        "model.add(Dense(10, activation='softmax'))\n",
        "model.compile(optimizer='adam', loss='categorical_crossentropy', metrics=['accuracy'])"
      ],
      "execution_count": 9,
      "outputs": []
    },
    {
      "cell_type": "code",
      "metadata": {
        "id": "BrrTCpFZT8YV"
      },
      "source": [
        "#Early stopping\n",
        "# es = EarlyStopping(monitor='val_loss', mode='min', verbose=1, patience=3)"
      ],
      "execution_count": 10,
      "outputs": []
    },
    {
      "cell_type": "code",
      "metadata": {
        "colab": {
          "base_uri": "https://localhost:8080/"
        },
        "id": "DeoasEEiVRwC",
        "outputId": "1774c452-af21-4927-b846-acd8c52b663a"
      },
      "source": [
        "history=model.fit(x_train,y_train_cat,epochs=50 ,validation_data=(x_test,y_test_cat))"
      ],
      "execution_count": null,
      "outputs": [
        {
          "output_type": "stream",
          "text": [
            "Epoch 1/50\n",
            "1563/1563 [==============================] - 32s 19ms/step - loss: 1.9912 - accuracy: 0.3486 - val_loss: 1.1832 - val_accuracy: 0.5789\n",
            "Epoch 2/50\n",
            "1563/1563 [==============================] - 27s 17ms/step - loss: 1.1461 - accuracy: 0.5942 - val_loss: 0.9277 - val_accuracy: 0.6803\n",
            "Epoch 3/50\n",
            "1563/1563 [==============================] - 27s 17ms/step - loss: 0.9315 - accuracy: 0.6752 - val_loss: 0.8322 - val_accuracy: 0.7101\n",
            "Epoch 4/50\n",
            "1563/1563 [==============================] - 27s 18ms/step - loss: 0.8244 - accuracy: 0.7147 - val_loss: 0.6634 - val_accuracy: 0.7640\n",
            "Epoch 5/50\n",
            "1563/1563 [==============================] - 27s 17ms/step - loss: 0.7512 - accuracy: 0.7445 - val_loss: 0.6604 - val_accuracy: 0.7718\n",
            "Epoch 6/50\n",
            "1563/1563 [==============================] - 27s 17ms/step - loss: 0.6610 - accuracy: 0.7772 - val_loss: 0.5908 - val_accuracy: 0.8002\n",
            "Epoch 7/50\n",
            "1563/1563 [==============================] - 27s 17ms/step - loss: 0.6132 - accuracy: 0.7908 - val_loss: 0.5694 - val_accuracy: 0.8029\n",
            "Epoch 8/50\n",
            "1563/1563 [==============================] - 27s 17ms/step - loss: 0.5804 - accuracy: 0.8028 - val_loss: 0.5125 - val_accuracy: 0.8271\n",
            "Epoch 9/50\n",
            "1563/1563 [==============================] - 27s 17ms/step - loss: 0.5394 - accuracy: 0.8145 - val_loss: 0.5596 - val_accuracy: 0.8115\n",
            "Epoch 10/50\n",
            "1563/1563 [==============================] - 27s 17ms/step - loss: 0.5131 - accuracy: 0.8258 - val_loss: 0.5346 - val_accuracy: 0.8195\n",
            "Epoch 11/50\n",
            "1563/1563 [==============================] - 27s 17ms/step - loss: 0.4866 - accuracy: 0.8353 - val_loss: 0.5055 - val_accuracy: 0.8315\n",
            "Epoch 12/50\n",
            "1563/1563 [==============================] - 27s 17ms/step - loss: 0.4624 - accuracy: 0.8389 - val_loss: 0.4930 - val_accuracy: 0.8368\n",
            "Epoch 13/50\n",
            "1563/1563 [==============================] - 27s 18ms/step - loss: 0.4486 - accuracy: 0.8484 - val_loss: 0.4907 - val_accuracy: 0.8347\n",
            "Epoch 14/50\n",
            "1563/1563 [==============================] - 27s 17ms/step - loss: 0.4284 - accuracy: 0.8536 - val_loss: 0.4605 - val_accuracy: 0.8458\n",
            "Epoch 15/50\n",
            "1563/1563 [==============================] - 28s 18ms/step - loss: 0.4197 - accuracy: 0.8554 - val_loss: 0.5314 - val_accuracy: 0.8275\n",
            "Epoch 16/50\n",
            "1563/1563 [==============================] - 27s 18ms/step - loss: 0.3997 - accuracy: 0.8636 - val_loss: 0.4884 - val_accuracy: 0.8450\n",
            "Epoch 17/50\n",
            "1563/1563 [==============================] - 28s 18ms/step - loss: 0.3873 - accuracy: 0.8691 - val_loss: 0.4460 - val_accuracy: 0.8506\n",
            "Epoch 18/50\n",
            "1563/1563 [==============================] - 28s 18ms/step - loss: 0.3729 - accuracy: 0.8719 - val_loss: 0.4305 - val_accuracy: 0.8577\n",
            "Epoch 19/50\n",
            "1429/1563 [==========================>...] - ETA: 2s - loss: 0.3610 - accuracy: 0.8792"
          ],
          "name": "stdout"
        }
      ]
    },
    {
      "cell_type": "code",
      "metadata": {
        "id": "13rpQc6fqhxv"
      },
      "source": [
        ""
      ],
      "execution_count": null,
      "outputs": []
    }
  ]
}