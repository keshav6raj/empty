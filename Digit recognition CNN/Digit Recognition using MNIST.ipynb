{
 "cells": [
  {
   "cell_type": "code",
   "execution_count": 1,
   "metadata": {},
   "outputs": [],
   "source": [
    "import tensorflow as tf"
   ]
  },
  {
   "cell_type": "code",
   "execution_count": 2,
   "metadata": {},
   "outputs": [
    {
     "name": "stdout",
     "output_type": "stream",
     "text": [
      "Downloading data from https://storage.googleapis.com/tensorflow/tf-keras-datasets/mnist.npz\n",
      "11493376/11490434 [==============================] - 2s 0us/step\n"
     ]
    }
   ],
   "source": [
    "dataset= tf.keras.datasets.mnist.load_data()"
   ]
  },
  {
   "cell_type": "code",
   "execution_count": 136,
   "metadata": {},
   "outputs": [],
   "source": [
    "(x_train,y_train) , (x_test,y_test) = dataset"
   ]
  },
  {
   "cell_type": "code",
   "execution_count": 120,
   "metadata": {},
   "outputs": [
    {
     "name": "stdout",
     "output_type": "stream",
     "text": [
      "(60000, 28, 28)\n",
      "(10000, 28, 28)\n"
     ]
    }
   ],
   "source": [
    "print(x_train.shape) #60000 images of size 28*28 pixels\n",
    "print(x_test.shape) #10000 images of size 28*28 pixels"
   ]
  },
  {
   "cell_type": "code",
   "execution_count": 153,
   "metadata": {},
   "outputs": [],
   "source": [
    "#4D array is required to use keras API and we have 3D, so we will reshape the arrays\n",
    "x_train= x_train.reshape(x_train.shape[0],28,28,1)\n",
    "x_test= x_test.reshape(x_test.shape[0],28,28,1)\n",
    "in_shape = (28,28,1)\n",
    "# x_train.shape"
   ]
  },
  {
   "cell_type": "code",
   "execution_count": 154,
   "metadata": {},
   "outputs": [],
   "source": [
    "# print(x_train.dtype) #its uint8 but we should convert it to float32(safeside)\n",
    "x_train= x_train.astype('float32')\n",
    "x_test= x_test.astype('float32')"
   ]
  },
  {
   "cell_type": "code",
   "execution_count": 157,
   "metadata": {},
   "outputs": [
    {
     "data": {
      "text/plain": [
       "<matplotlib.image.AxesImage at 0x20c702f7ee0>"
      ]
     },
     "execution_count": 157,
     "metadata": {},
     "output_type": "execute_result"
    },
    {
     "data": {
      "image/png": "[encoded data removed]",
      "text/plain": [
       "<Figure size 432x288 with 1 Axes>"
      ]
     },
     "metadata": {
      "needs_background": "light"
     },
     "output_type": "display_data"
    }
   ],
   "source": [
    "import matplotlib.pyplot as plt\n",
    "sample_img = x_train[100, :, :, :]\n",
    "sample_img = sample_img.reshape(28,28) #matplotlib.pyplot.imshow() needs a 2D array, \n",
    "                                        # or a 3D array with the third dimension being of shape 3 or 4 !\n",
    "# sample_img.shape\n",
    "plt.imshow(sample_img, cmap = \"gray\")"
   ]
  },
  {
   "cell_type": "code",
   "execution_count": 158,
   "metadata": {},
   "outputs": [],
   "source": [
    "#Normalization: dividing by 255 i.e. the maximum RGB code minus the minimum RGB code.\n",
    "x_train/=255\n",
    "x_test/=255"
   ]
  },
  {
   "cell_type": "code",
   "execution_count": 159,
   "metadata": {},
   "outputs": [
    {
     "name": "stdout",
     "output_type": "stream",
     "text": [
      "Model: \"sequential_12\"\n",
      "_________________________________________________________________\n",
      "Layer (type)                 Output Shape              Param #   \n",
      "=================================================================\n",
      "conv2d_7 (Conv2D)            (None, 28, 28, 32)        320       \n",
      "_________________________________________________________________\n",
      "max_pooling2d_6 (MaxPooling2 (None, 14, 14, 32)        0         \n",
      "_________________________________________________________________\n",
      "flatten_5 (Flatten)          (None, 6272)              0         \n",
      "_________________________________________________________________\n",
      "dense_8 (Dense)              (None, 128)               802944    \n",
      "_________________________________________________________________\n",
      "dropout_4 (Dropout)          (None, 128)               0         \n",
      "_________________________________________________________________\n",
      "dense_9 (Dense)              (None, 10)                1290      \n",
      "=================================================================\n",
      "Total params: 804,554\n",
      "Trainable params: 804,554\n",
      "Non-trainable params: 0\n",
      "_________________________________________________________________\n"
     ]
    }
   ],
   "source": [
    "# MODEL BUILDING\n",
    "from tensorflow.keras.layers import Dense, Conv2D, Dropout, Flatten, MaxPooling2D\n",
    "model = tf.keras.Sequential()\n",
    "model.add(Conv2D(filters= 32,kernel_size= (3,3), padding='same', activation = 'relu', input_shape=in_shape))\n",
    "model.add(MaxPooling2D(pool_size=2))\n",
    "model.add(Flatten())\n",
    "model.add(Dense(units= 128, activation = 'relu'))\n",
    "model.add(Dropout(0.2))\n",
    "model.add(Dense(units=10, activation= 'softmax'))\n",
    "model.summary()"
   ]
  },
  {
   "cell_type": "code",
   "execution_count": 160,
   "metadata": {},
   "outputs": [],
   "source": [
    "model.compile(optimizer= 'adam', loss= 'sparse_categorical_crossentropy', metrics=['accuracy'])"
   ]
  },
  {
   "cell_type": "code",
   "execution_count": 164,
   "metadata": {},
   "outputs": [],
   "source": [
    "# Using EarlyStopping, end training when val_accuracy is not improved for 10 consecutive times\n",
    "early_stopping = tf.keras.callbacks.EarlyStopping(monitor='accuracy',mode='max',\n",
    "                                    patience=10,restore_best_weights=True)\n",
    "\n",
    "# Using ReduceLROnPlateau, the learning rate is reduced by half when val_accuracy is not improved for 5 consecutive times\n",
    "lr_scheduler = tf.keras.callbacks.ReduceLROnPlateau(monitor='accuracy',mode='max',factor=0.5,patience=5)\n"
   ]
  },
  {
   "cell_type": "code",
   "execution_count": 169,
   "metadata": {},
   "outputs": [
    {
     "name": "stdout",
     "output_type": "stream",
     "text": [
      "Epoch 1/15\n",
      "300/300 [==============================] - 18s 61ms/step - loss: 0.0095 - accuracy: 0.9971\n",
      "Epoch 2/15\n",
      "300/300 [==============================] - 18s 62ms/step - loss: 0.0063 - accuracy: 0.9981\n",
      "Epoch 3/15\n",
      "300/300 [==============================] - 20s 66ms/step - loss: 0.0053 - accuracy: 0.9984\n",
      "Epoch 4/15\n",
      "300/300 [==============================] - 20s 68ms/step - loss: 0.0045 - accuracy: 0.9987\n",
      "Epoch 5/15\n",
      "300/300 [==============================] - 20s 65ms/step - loss: 0.0037 - accuracy: 0.9990\n",
      "Epoch 6/15\n",
      "300/300 [==============================] - 19s 62ms/step - loss: 0.0041 - accuracy: 0.9988\n",
      "Epoch 7/15\n",
      "300/300 [==============================] - 20s 65ms/step - loss: 0.0039 - accuracy: 0.9989\n",
      "Epoch 8/15\n",
      "300/300 [==============================] - 21s 70ms/step - loss: 0.0033 - accuracy: 0.99910s - loss: 0.0033 - accura\n",
      "Epoch 9/15\n",
      "300/300 [==============================] - 20s 66ms/step - loss: 0.0027 - accuracy: 0.9992\n",
      "Epoch 10/15\n",
      "300/300 [==============================] - 20s 67ms/step - loss: 0.0035 - accuracy: 0.9990\n",
      "Epoch 11/15\n",
      "300/300 [==============================] - 19s 64ms/step - loss: 0.0038 - accuracy: 0.9988\n",
      "Epoch 12/15\n",
      "300/300 [==============================] - 21s 69ms/step - loss: 0.0027 - accuracy: 0.9992\n",
      "Epoch 13/15\n",
      "300/300 [==============================] - 20s 66ms/step - loss: 0.0031 - accuracy: 0.9991\n",
      "Epoch 14/15\n",
      "300/300 [==============================] - 19s 63ms/step - loss: 0.0033 - accuracy: 0.9990\n",
      "Epoch 15/15\n",
      "300/300 [==============================] - 19s 64ms/step - loss: 0.0024 - accuracy: 0.9992\n"
     ]
    }
   ],
   "source": [
    "#fitting model\n",
    "history= model.fit(x_train,y_train,epochs=15,batch_size= 200 ,callbacks=[early_stopping,lr_scheduler])"
   ]
  },
  {
   "cell_type": "markdown",
   "metadata": {},
   "source": [
    "model.evaluate(x_test,y_test)"
   ]
  },
  {
   "cell_type": "code",
   "execution_count": 172,
   "metadata": {},
   "outputs": [
    {
     "name": "stdout",
     "output_type": "stream",
     "text": [
      "y_exact\t\ty_predict\n",
      "2 \t\t 2\n",
      "1 \t\t 1\n",
      "0 \t\t 0\n",
      "4 \t\t 4\n",
      "1 \t\t 1\n",
      "4 \t\t 4\n",
      "9 \t\t 9\n",
      "5 \t\t 5\n",
      "9 \t\t 9\n"
     ]
    },
    {
     "data": {
      "image/png": "[encoded data removed]",
      "text/plain": [
       "<Figure size 432x288 with 9 Axes>"
      ]
     },
     "metadata": {
      "needs_background": "light"
     },
     "output_type": "display_data"
    }
   ],
   "source": [
    "print(\"y_exact\\t\\t\"  \"y_predict\")\n",
    "# let's predict some values\n",
    "for i in range(1,10):\n",
    "    plt.subplot(3,3,i)\n",
    "    \n",
    "    plt.imshow(x_test[i].reshape(28, 28),cmap='Greys')\n",
    "    # x_test[i].shape it's again 3D, so for predicting we need to pass it as 4D\n",
    "    pred = model.predict(x_test[i].reshape(1,28,28,1))\n",
    "    print(y_test[i],'\\t\\t', pred.argmax())\n",
    "plt.show()"
   ]
  },
  {
   "cell_type": "code",
   "execution_count": null,
   "metadata": {},
   "outputs": [],
   "source": []
  }
 ],
 "metadata": {
  "kernelspec": {
   "display_name": "Python 3",
   "language": "python",
   "name": "python3"
  },
  "language_info": {
   "codemirror_mode": {
    "name": "ipython",
    "version": 3
   },
   "file_extension": ".py",
   "mimetype": "text/x-python",
   "name": "python",
   "nbconvert_exporter": "python",
   "pygments_lexer": "ipython3",
   "version": "3.8.3"
  }
 },
 "nbformat": 4,
 "nbformat_minor": 4
}
